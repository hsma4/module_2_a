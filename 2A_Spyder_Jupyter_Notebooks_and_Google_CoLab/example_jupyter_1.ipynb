{
 "cells": [
  {
   "cell_type": "markdown",
   "metadata": {},
   "source": [
    "# Dan's Example Jupyter Notebook\n",
    "## \"A glimpse into genius\"\n",
    "\n",
    "This is an example Jupyter Notebook.  We use this Notebook to give an *overview* of some of the **key features** of a Jupyter Notebook.\n",
    "\n",
    "In this notebook, you'll see examples of :\n",
    "\n",
    "* markdown cells\n",
    "* how to use markdown for formatting text\n",
    "* code cells\n",
    "\n",
    "To add a cell, we click the + button below the name of the tab.  By default, a new cell will be a code cell.  To change it to a Markdown or Raw cell, just use the dropdown list a little further over to the right.  You'll mostly use Code and Markdown cells.\n",
    "\n",
    "Let's say we want an initial code block to import the libraries we'll need for our code.  Here it is :"
   ]
  },
  {
   "cell_type": "code",
   "execution_count": null,
   "metadata": {},
   "outputs": [],
   "source": [
    "import random\n",
    "import math"
   ]
  },
  {
   "cell_type": "markdown",
   "metadata": {},
   "source": [
    "You'll see above that we imported two libraries - the `random` library, and the `math` library.  However, the code won't execute until we instruct it.  To do this, click in the code cell that we want to run.  Then, either click the **Play** button in the top toolbar, or hit CTRL + Enter at the same time.  Once the code has executed, you'll see a number in the square brackets next to the code block.  This number indicates the order in which you ran things - this is important, because in a Jupyter Notebook you can run code blocks in any order you choose.  If this is the first time you've run the code block above in your current session, you should see the number 1 appear.  If you run the code again, you'll see it's replaced with the number 2.\n",
    "\n",
    "When you're writing markdown cells such as this one, you also need to execute them to apply the formatting etc you've specified.  You do this in the same way as for code blocks - use either the Play button or hit CTRL + Enter.\n",
    "\n",
    "To change a code block, just click in it and start writing code.  To change a markdown block, you need to double click on the cell first.  Try double clicking in a markdown cell to see some of the formatting markdown.\n",
    "\n",
    "Now, let's have another code block where we use the libraries we've imported above.  In this next block of code, we'll first randomly generate two numbers - one a floating point number (number with a decimal point) between 0 and 1, and one an integer (whole number) between 1 and 10.  Then we'll add them together, and use a function of the `math` library called `ceil` which returns the \"ceiling\" of a number (the smallest integer greater than or equal to the number).  Finally we print a message confirming that we've used this to calculate how many nurses we need, and therefore how many we need to employ (since we can only have whole numbers of people)."
   ]
  },
  {
   "cell_type": "code",
   "execution_count": null,
   "metadata": {},
   "outputs": [],
   "source": [
    "rn1 = random.random()\n",
    "rn2 = random.randint(1,10)\n",
    "\n",
    "summed_numbers = rn1 + rn2\n",
    "ceiling_number = math.ceil(summed_numbers)\n",
    "\n",
    "print (f\"We calculated we need {summed_numbers} nurses, so that means we'll need to employ {ceiling_number}\")"
   ]
  },
  {
   "cell_type": "markdown",
   "metadata": {},
   "source": [
    "Try running the above code block multiple times.  You'll see that you get different numbers each time, because the code block is executing from scratch each time, and sampling new random numbers each time.\n",
    "\n",
    "The code block above uses the libraries we imported in the first code block.  You'll learn about libraries in the Python training, but for now, just know that they're packages of useful things that we can use, but to do that, we have to `import` them into our code first.  If we had run the second code block without running the first code block, we'd get an error, because the import wouldn't have happened.\n",
    "\n",
    "Let's see that in action.  In the **Kernel** menu at the top, select **Restart Kernel and Clear All Outputs**.  This will restart the Kernel (as you did in Spyder) and clear all the outputs from your notebook, to start \"afresh\" (This is also useful because, when you save a Notebook, it saves in its current state (complete with the outputs you had at the time of saving).  Once you've done that, run the second code block without running the first one, and note what happens."
   ]
  },
  {
   "cell_type": "markdown",
   "metadata": {},
   "source": [
    "In this markdown cell, you can see some of the common types of formatting you may want to use.  You should double click this cell to see the markdown for each type of formatting.  There's also a good reference source here :\n",
    "https://www.earthdatascience.org/courses/intro-to-earth-data-science/file-formats/use-text-files/format-text-with-markdown-jupyter-notebook/\n",
    "\n",
    "# This is the biggest header.  I am the most important\n",
    "## I am also a header, but not quite as important.  But I'm hoping for promotion soon.\n",
    "### I am the middle management of headers.\n",
    "#### I'm barely a header\n",
    "\n",
    "*I am italics.  I like to lean over because I'm slightly cool.  Don't forget to put an asterix at both ends!  But don't put a space between the asterix and the text.*\n",
    "\n",
    "**I am bold.  I like being emphatic, or slightly passive aggressive.  I also need no space between my double asterix notation and the text**\n",
    "\n",
    "* I am a bullet point\n",
    "* I like to make points\n",
    "* As bullets\n",
    "* Because they're easier to read\n",
    "* And more impactful\n",
    "* And I can call in other friends to help, like *Mr Italics* and **Mr Bold**\n",
    "\n",
    "1. I'm a numbered list.  A bit like bullet points, but I like order.  **READ ME IN ORDER!!!**\n",
    "2. Sorry about that outburst.\n",
    "3. I get like that sometimes.\n",
    "4. I'm sorry.\n",
    "\n",
    "`I am a highlight!  I'm useful for highlighting bits of code in a markdown cell.  For example :`\n",
    "\n",
    "When we import a library, we do so using the import command.  For example : `import random`\n",
    "\n",
    "`I'm also a good excuse to use the backtick symbol key that nobody ever uses.  You should find me just above the tab key.  If you care...`\n",
    "\n",
    "***\n",
    "\n",
    "I've used a treble asterix notation here to create some lines.  This can be useful for indicating important stuff, or separating into sections.\n",
    "\n",
    "***\n",
    "\n",
    "We can even embed an image of our choosing from a url (you can embed images from a local drive too).  Here's an image of Dan auditioning for the next series of Countryfile, which is a mandatory inclusion in all Jupyter Notebooks :\n",
    "\n",
    "![This is the \"alt text\" used if the image fails to load, or in screen reading tools.  What a handsome chap!](https://arc-swp.nihr.ac.uk/wp/wp-content/uploads/2020/12/Dan-Chalk-1.jpg)"
   ]
  },
  {
   "cell_type": "raw",
   "metadata": {},
   "source": [
    "And finally, for completeness, here's a Raw cell.  How very dull."
   ]
  }
 ],
 "metadata": {
  "kernelspec": {
   "display_name": "Python 3",
   "language": "python",
   "name": "python3"
  },
  "language_info": {
   "codemirror_mode": {
    "name": "ipython",
    "version": 3
   },
   "file_extension": ".py",
   "mimetype": "text/x-python",
   "name": "python",
   "nbconvert_exporter": "python",
   "pygments_lexer": "ipython3",
   "version": "3.7.6"
  }
 },
 "nbformat": 4,
 "nbformat_minor": 4
}
